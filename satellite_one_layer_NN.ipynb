{
 "cells": [
  {
   "cell_type": "markdown",
   "id": "67c4b5fd",
   "metadata": {},
   "source": [
    "# Import Libraries"
   ]
  },
  {
   "cell_type": "code",
   "execution_count": 1,
   "id": "4b61f513",
   "metadata": {},
   "outputs": [],
   "source": [
    "import numpy as np \n",
    "import pandas as pd \n",
    "import matplotlib.pyplot as plt # visualize satellite images\n",
    "from skimage.io import imshow # visualize satellite images\n",
    "\n",
    "from keras.layers import Dense, Conv2D, MaxPooling2D, Flatten, Dropout #Different components/layers of a neural network.\n",
    "from keras.models import Sequential # neural network model"
   ]
  },
  {
   "cell_type": "markdown",
   "id": "00ea279e",
   "metadata": {},
   "source": [
    "# Loading the data"
   ]
  },
  {
   "cell_type": "markdown",
   "id": "f6dc5f43",
   "metadata": {},
   "source": [
    "The provided data is encoded into CSV files, with X_test_sat4.csv containing flattened images extracted from space, measuring 28 x 28 x 4 in dimensions. \n",
    "\n",
    "These images consist of the conventional red, green, and blue channels seen in typical images, while the fourth channel represents near-infrared data. \n",
    "\n",
    "Due to the extensive size of the training set, I opted to utilize a smaller test set. \n",
    "\n",
    "Simultaneously, I am loading the second file which contains labels corresponding to each image. These labels fall into one of four categories: barren land, trees, grassland, and other. \n",
    "\n",
    "Each row within this file is structured as [1, 0, 0, 0], wherein only one of the four values is set to 1, indicating the respective class in the order presented earlier. For instance, if the label is [1, 0, 0, 0], the image depicts barren land. Similarly, [0, 1, 0, 0] signifies trees, [0, 0, 1, 0] denotes grassland, and so forth."
   ]
  },
  {
   "cell_type": "code",
   "execution_count": 15,
   "id": "fa177e24",
   "metadata": {},
   "outputs": [
    {
     "name": "stdout",
     "output_type": "stream",
     "text": [
      "Loading Training Data\n",
      "Loaded 28 x 28 x 4 images\n",
      "Loaded labels\n"
     ]
    }
   ],
   "source": [
    "x_train_path = 'X_test_sat4.csv' # Contains training images (28x28x4)\n",
    "y_train_path = 'y_test_sat4.csv' # Contains labels for training images (one-hot encoded)\n",
    "print ('Loading Training Data')\n",
    "X_train = pd.read_csv(x_train_path)\n",
    "print ('Loaded 28 x 28 x 4 images')\n",
    "\n",
    "Y_train = pd.read_csv(y_train_path)\n",
    "print ('Loaded labels')"
   ]
  },
  {
   "cell_type": "markdown",
   "id": "c15d8b39",
   "metadata": {},
   "source": [
    "## Data Preprocessing"
   ]
  },
  {
   "cell_type": "code",
   "execution_count": 16,
   "id": "bb4c1a72",
   "metadata": {},
   "outputs": [
    {
     "name": "stdout",
     "output_type": "stream",
     "text": [
      "We have 99999 examples and each example is a list of 3136 numbers with 4 possible classifications.\n"
     ]
    }
   ],
   "source": [
    "# The loaded data is converted from pandas DataFrames to numpy arrays\n",
    "X_train = X_train.values\n",
    "Y_train = Y_train.values\n",
    "print ('We have',X_train.shape[0],'examples and each example is a list of',\n",
    "       X_train.shape[1],'numbers with',Y_train.shape[1],'possible classifications.')"
   ]
  },
  {
   "cell_type": "markdown",
   "id": "068044af",
   "metadata": {},
   "source": [
    "## Reshaping Images"
   ]
  },
  {
   "cell_type": "markdown",
   "id": "bf3754c4",
   "metadata": {},
   "source": [
    "Upon extracting information from the CSV files, I can reshape the data to reconstruct the original images, enabling us to preview the images before commencing the training process. "
   ]
  },
  {
   "cell_type": "code",
   "execution_count": 17,
   "id": "896d159d",
   "metadata": {},
   "outputs": [
    {
     "name": "stdout",
     "output_type": "stream",
     "text": [
      "(99999, 28, 28, 4)\n"
     ]
    }
   ],
   "source": [
    "'''The training images are reshaped from a list of numbers to a 4D tensor of shape (samples, width, height, channels):\n",
    "X_train is reshaped to X_train_img using .reshape() and cast to float.'''\n",
    "\n",
    "X_train_img = X_train.reshape([99999,28,28,4]).astype(float)\n",
    "print (X_train_img.shape)"
   ]
  },
  {
   "cell_type": "markdown",
   "id": "8e2063ac",
   "metadata": {},
   "source": [
    "# Visualising an image"
   ]
  },
  {
   "cell_type": "code",
   "execution_count": 18,
   "id": "b9c02317",
   "metadata": {
    "scrolled": true
   },
   "outputs": [
    {
     "data": {
      "image/png": "[encoded data removed]",
      "text/plain": [
       "<Figure size 432x288 with 1 Axes>"
      ]
     },
     "metadata": {
      "needs_background": "light"
     },
     "output_type": "display_data"
    },
    {
     "name": "stdout",
     "output_type": "stream",
     "text": [
      "Barren Land\n"
     ]
    }
   ],
   "source": [
    "#Let's take a look at one image. Keep in mind the channels are R,G,B, and I(Infrared)\n",
    "\n",
    "'''An example image is visualized using skimage.io.imshow and matplotlib.pyplot.show():\n",
    "X_train_img[ix, :, :, 0:3] selects the RGB channels of the image.\n",
    "The corresponding label is displayed based on the one-hot encoded representation.'''\n",
    "\n",
    "ix = 5 #Type a number between 0 and 99,999 inclusive\n",
    "\n",
    "imshow(np.squeeze(X_train_img[ix,:,:,0:3] * 255).astype(np.uint8)) #Only seeing the RGB channels\n",
    "plt.show()\n",
    "\n",
    "#Tells what the image is\n",
    "\n",
    "if Y_train[ix,0] == 1:\n",
    "    print ('Barren Land')\n",
    "elif Y_train[ix,1] == 1:\n",
    "    print ('Trees')\n",
    "elif Y_train[ix,2] == 1:\n",
    "    print ('Grassland')\n",
    "else:\n",
    "    print ('Other')"
   ]
  },
  {
   "cell_type": "markdown",
   "id": "4e243de1",
   "metadata": {},
   "source": [
    "# Defining the model"
   ]
  },
  {
   "cell_type": "markdown",
   "id": "e4af8cdb",
   "metadata": {},
   "source": [
    "We have the option to select between two distinct model types: a basic artificial neural network or a convolutional neural network. To begin with, I will opt for the simpler artificial neural network. This network will consist of only a single layer, which is the output layer. It's important to note that this particular network is not anticipated to possess significant computational power and is likely to exhibit relatively sluggish performance."
   ]
  },
  {
   "cell_type": "code",
   "execution_count": 19,
   "id": "2a9f5f39",
   "metadata": {},
   "outputs": [],
   "source": [
    "'''A simple neural network model is defined using the Sequential API:\n",
    "The model consists of a single dense layer with 4 output units (one for each class) and a softmax activation function.'''\n",
    "\n",
    "model = Sequential([\n",
    "    Dense(4, input_shape=(3136,), activation='softmax')\n",
    "])"
   ]
  },
  {
   "cell_type": "markdown",
   "id": "af78f6d9",
   "metadata": {},
   "source": [
    "## Data Normalisation\n"
   ]
  },
  {
   "cell_type": "code",
   "execution_count": 7,
   "id": "c89ff8ab",
   "metadata": {},
   "outputs": [],
   "source": [
    "# The training data (X_train_img) is normalized by dividing all values by 255.\n",
    "X_train = X_train/255"
   ]
  },
  {
   "cell_type": "markdown",
   "id": "ae3bea98",
   "metadata": {},
   "source": [
    "## Training the model"
   ]
  },
  {
   "cell_type": "code",
   "execution_count": 11,
   "id": "cd08fa0e",
   "metadata": {},
   "outputs": [
    {
     "name": "stdout",
     "output_type": "stream",
     "text": [
      "Model: \"sequential\"\n",
      "_________________________________________________________________\n",
      " Layer (type)                Output Shape              Param #   \n",
      "=================================================================\n",
      " dense (Dense)               (None, 4)                 12548     \n",
      "                                                                 \n",
      "=================================================================\n",
      "Total params: 12,548\n",
      "Trainable params: 12,548\n",
      "Non-trainable params: 0\n",
      "_________________________________________________________________\n",
      "Epoch 1/5\n",
      "2813/2813 [==============================] - 4s 2ms/step - loss: 0.6474 - accuracy: 0.7283 - val_loss: 0.6326 - val_accuracy: 0.7243\n",
      "Epoch 2/5\n",
      "2813/2813 [==============================] - 4s 1ms/step - loss: 0.6382 - accuracy: 0.7301 - val_loss: 0.5957 - val_accuracy: 0.7457\n",
      "Epoch 3/5\n",
      "2813/2813 [==============================] - 4s 1ms/step - loss: 0.6358 - accuracy: 0.7333 - val_loss: 0.5748 - val_accuracy: 0.7571\n",
      "Epoch 4/5\n",
      "2813/2813 [==============================] - 4s 1ms/step - loss: 0.6306 - accuracy: 0.7340 - val_loss: 0.5735 - val_accuracy: 0.7593\n",
      "Epoch 5/5\n",
      "2813/2813 [==============================] - 4s 1ms/step - loss: 0.6327 - accuracy: 0.7346 - val_loss: 0.5892 - val_accuracy: 0.7532\n"
     ]
    },
    {
     "data": {
      "text/plain": [
       "<keras.callbacks.History at 0x7fb1065d4c70>"
      ]
     },
     "execution_count": 11,
     "metadata": {},
     "output_type": "execute_result"
    }
   ],
   "source": [
    "'''\n",
    "Optimizer: Adam optimizer.\n",
    "Loss function: Categorical cross-entropy (suitable for multiclass classification).\n",
    "Metrics: Accuracy'''\n",
    "\n",
    "model.compile(optimizer='adam', loss='categorical_crossentropy', metrics=['accuracy'])\n",
    "model.summary()\n",
    "model.fit(X_train,Y_train,batch_size=32, epochs=5, verbose=1, validation_split=0.1)"
   ]
  },
  {
   "cell_type": "markdown",
   "id": "33ed805a",
   "metadata": {},
   "source": [
    "## Evaluating the model on images"
   ]
  },
  {
   "cell_type": "code",
   "execution_count": 12,
   "id": "73344f04",
   "metadata": {},
   "outputs": [
    {
     "name": "stdout",
     "output_type": "stream",
     "text": [
      "3094/3094 [==============================] - 3s 1ms/step\n"
     ]
    }
   ],
   "source": [
    "# Selects the last 1000 images\n",
    "\n",
    "preds = model.predict(X_train[1000:], verbose=1)"
   ]
  },
  {
   "cell_type": "code",
   "execution_count": 14,
   "id": "3588b435",
   "metadata": {},
   "outputs": [
    {
     "data": {
      "image/png": "[encoded data removed]",
      "text/plain": [
       "<Figure size 432x288 with 1 Axes>"
      ]
     },
     "metadata": {
      "needs_background": "light"
     },
     "output_type": "display_data"
    },
    {
     "name": "stdout",
     "output_type": "stream",
     "text": [
      "Prediction:\n",
      "100.0% probability barren land,\n",
      "0.0% probability trees,\n",
      "0.0% probability grassland,\n",
      "0.0% probability other\n",
      "\n",
      "Ground Truth: Barren Land\n"
     ]
    }
   ],
   "source": [
    "ix = 90 # Type a number between 0 and 999 inclusive\n",
    "imshow(np.squeeze(X_train_img[ix,:,:,0:3] * 255).astype(np.uint8)) #Only seeing the RGB channels\n",
    "plt.show()\n",
    "# Tells what the image is\n",
    "print ('Prediction:\\n{:.1f}% probability barren land,\\n{:.1f}% probability trees,\\n{:.1f}% probability grassland,\\n{:.1f}% probability other\\n'.format(preds[ix,0]*100,preds[ix,1]*100,preds[ix,2]*100,preds[ix,3]*100))\n",
    "\n",
    "print ('Ground Truth: ',end='')\n",
    "if Y_train[99999-(1000-ix),0] == 1:\n",
    "    print ('Barren Land')\n",
    "elif Y_train[99999-(1000-ix),1] == 1:\n",
    "    print ('Trees')\n",
    "elif Y_train[99999-(1000-ix),2] == 1:\n",
    "    print ('Grassland')\n",
    "else:\n",
    "    print ('Other')"
   ]
  },
  {
   "cell_type": "markdown",
   "id": "c142bf20",
   "metadata": {},
   "source": [
    "# Using CNN"
   ]
  },
  {
   "cell_type": "code",
   "execution_count": 26,
   "id": "6f9d06fa",
   "metadata": {},
   "outputs": [],
   "source": [
    "import numpy as np\n",
    "import pandas as pd\n",
    "import matplotlib.pyplot as plt\n",
    "from skimage.io import imshow\n",
    "from keras.layers import Dense, Conv2D, MaxPooling2D, Flatten, Dropout\n",
    "from keras.models import Sequential\n",
    "from keras.utils import to_categorical\n",
    "from sklearn.model_selection import train_test_split\n",
    "\n"
   ]
  },
  {
   "cell_type": "code",
   "execution_count": 28,
   "id": "2a248534",
   "metadata": {},
   "outputs": [
    {
     "name": "stdout",
     "output_type": "stream",
     "text": [
      "Loading Training Data\n",
      "Loaded 28 x 28 x 4 images\n",
      "Loaded labels\n",
      "We have 99999 examples and each example is a list of 3136 numbers with 4 possible classifications.\n"
     ]
    }
   ],
   "source": [
    "# Loading the data\n",
    "x_train_path = 'X_test_sat4.csv'\n",
    "y_train_path = 'y_test_sat4.csv'\n",
    "print('Loading Training Data')\n",
    "X_train = pd.read_csv(x_train_path)\n",
    "print('Loaded 28 x 28 x 4 images')\n",
    "\n",
    "Y_train = pd.read_csv(y_train_path)\n",
    "print('Loaded labels')\n",
    "\n",
    "# Data Preprocessing\n",
    "X_train = X_train.values\n",
    "Y_train = Y_train.values\n",
    "print('We have', X_train.shape[0], 'examples and each example is a list of',\n",
    "      X_train.shape[1], 'numbers with', Y_train.shape[1], 'possible classifications.')"
   ]
  },
  {
   "cell_type": "code",
   "execution_count": 29,
   "id": "fb04a16a",
   "metadata": {},
   "outputs": [
    {
     "name": "stdout",
     "output_type": "stream",
     "text": [
      "Epoch 1/10\n"
     ]
    },
    {
     "ename": "ValueError",
     "evalue": "in user code:\n\n    File \"/Users/palukgupta/opt/anaconda3/lib/python3.9/site-packages/keras/engine/training.py\", line 1051, in train_function  *\n        return step_function(self, iterator)\n    File \"/Users/palukgupta/opt/anaconda3/lib/python3.9/site-packages/keras/engine/training.py\", line 1040, in step_function  **\n        outputs = model.distribute_strategy.run(run_step, args=(data,))\n    File \"/Users/palukgupta/opt/anaconda3/lib/python3.9/site-packages/keras/engine/training.py\", line 1030, in run_step  **\n        outputs = model.train_step(data)\n    File \"/Users/palukgupta/opt/anaconda3/lib/python3.9/site-packages/keras/engine/training.py\", line 890, in train_step\n        loss = self.compute_loss(x, y, y_pred, sample_weight)\n    File \"/Users/palukgupta/opt/anaconda3/lib/python3.9/site-packages/keras/engine/training.py\", line 948, in compute_loss\n        return self.compiled_loss(\n    File \"/Users/palukgupta/opt/anaconda3/lib/python3.9/site-packages/keras/engine/compile_utils.py\", line 201, in __call__\n        loss_value = loss_obj(y_t, y_p, sample_weight=sw)\n    File \"/Users/palukgupta/opt/anaconda3/lib/python3.9/site-packages/keras/losses.py\", line 139, in __call__\n        losses = call_fn(y_true, y_pred)\n    File \"/Users/palukgupta/opt/anaconda3/lib/python3.9/site-packages/keras/losses.py\", line 243, in call  **\n        return ag_fn(y_true, y_pred, **self._fn_kwargs)\n    File \"/Users/palukgupta/opt/anaconda3/lib/python3.9/site-packages/keras/losses.py\", line 1787, in categorical_crossentropy\n        return backend.categorical_crossentropy(\n    File \"/Users/palukgupta/opt/anaconda3/lib/python3.9/site-packages/keras/backend.py\", line 5119, in categorical_crossentropy\n        target.shape.assert_is_compatible_with(output.shape)\n\n    ValueError: Shapes (None, 1) and (None, 4) are incompatible\n",
     "output_type": "error",
     "traceback": [
      "\u001b[0;31m---------------------------------------------------------------------------\u001b[0m",
      "\u001b[0;31mValueError\u001b[0m                                Traceback (most recent call last)",
      "Input \u001b[0;32mIn [29]\u001b[0m, in \u001b[0;36m<cell line: 21>\u001b[0;34m()\u001b[0m\n\u001b[1;32m     19\u001b[0m \u001b[38;5;66;03m# Compile the model\u001b[39;00m\n\u001b[1;32m     20\u001b[0m model\u001b[38;5;241m.\u001b[39mcompile(optimizer\u001b[38;5;241m=\u001b[39m\u001b[38;5;124m'\u001b[39m\u001b[38;5;124madam\u001b[39m\u001b[38;5;124m'\u001b[39m, loss\u001b[38;5;241m=\u001b[39m\u001b[38;5;124m'\u001b[39m\u001b[38;5;124mcategorical_crossentropy\u001b[39m\u001b[38;5;124m'\u001b[39m, metrics\u001b[38;5;241m=\u001b[39m[\u001b[38;5;124m'\u001b[39m\u001b[38;5;124maccuracy\u001b[39m\u001b[38;5;124m'\u001b[39m])\n\u001b[0;32m---> 21\u001b[0m history \u001b[38;5;241m=\u001b[39m \u001b[43mmodel\u001b[49m\u001b[38;5;241;43m.\u001b[39;49m\u001b[43mfit\u001b[49m\u001b[43m(\u001b[49m\u001b[43mX_train\u001b[49m\u001b[43m,\u001b[49m\u001b[43m \u001b[49m\u001b[43mY_train\u001b[49m\u001b[43m,\u001b[49m\u001b[43m \u001b[49m\u001b[43mbatch_size\u001b[49m\u001b[38;5;241;43m=\u001b[39;49m\u001b[38;5;241;43m32\u001b[39;49m\u001b[43m,\u001b[49m\u001b[43m \u001b[49m\u001b[43mepochs\u001b[49m\u001b[38;5;241;43m=\u001b[39;49m\u001b[38;5;241;43m10\u001b[39;49m\u001b[43m,\u001b[49m\u001b[43m \u001b[49m\u001b[43mverbose\u001b[49m\u001b[38;5;241;43m=\u001b[39;49m\u001b[38;5;241;43m1\u001b[39;49m\u001b[43m,\u001b[49m\u001b[43m \u001b[49m\u001b[43mvalidation_data\u001b[49m\u001b[38;5;241;43m=\u001b[39;49m\u001b[43m(\u001b[49m\u001b[43mX_val\u001b[49m\u001b[43m,\u001b[49m\u001b[43m \u001b[49m\u001b[43mY_val\u001b[49m\u001b[43m)\u001b[49m\u001b[43m)\u001b[49m\n\u001b[1;32m     24\u001b[0m \u001b[38;5;66;03m# Evaluating the model on images\u001b[39;00m\n\u001b[1;32m     25\u001b[0m ix \u001b[38;5;241m=\u001b[39m \u001b[38;5;241m90\u001b[39m\n",
      "File \u001b[0;32m~/opt/anaconda3/lib/python3.9/site-packages/keras/utils/traceback_utils.py:67\u001b[0m, in \u001b[0;36mfilter_traceback.<locals>.error_handler\u001b[0;34m(*args, **kwargs)\u001b[0m\n\u001b[1;32m     65\u001b[0m \u001b[38;5;28;01mexcept\u001b[39;00m \u001b[38;5;167;01mException\u001b[39;00m \u001b[38;5;28;01mas\u001b[39;00m e:  \u001b[38;5;66;03m# pylint: disable=broad-except\u001b[39;00m\n\u001b[1;32m     66\u001b[0m   filtered_tb \u001b[38;5;241m=\u001b[39m _process_traceback_frames(e\u001b[38;5;241m.\u001b[39m__traceback__)\n\u001b[0;32m---> 67\u001b[0m   \u001b[38;5;28;01mraise\u001b[39;00m e\u001b[38;5;241m.\u001b[39mwith_traceback(filtered_tb) \u001b[38;5;28;01mfrom\u001b[39;00m \u001b[38;5;28mNone\u001b[39m\n\u001b[1;32m     68\u001b[0m \u001b[38;5;28;01mfinally\u001b[39;00m:\n\u001b[1;32m     69\u001b[0m   \u001b[38;5;28;01mdel\u001b[39;00m filtered_tb\n",
      "File \u001b[0;32m/var/folders/16/n85snlw97_g_bmzt1m93tm8w0000gn/T/__autograph_generated_file25nug1_w.py:15\u001b[0m, in \u001b[0;36mouter_factory.<locals>.inner_factory.<locals>.tf__train_function\u001b[0;34m(iterator)\u001b[0m\n\u001b[1;32m     13\u001b[0m \u001b[38;5;28;01mtry\u001b[39;00m:\n\u001b[1;32m     14\u001b[0m     do_return \u001b[38;5;241m=\u001b[39m \u001b[38;5;28;01mTrue\u001b[39;00m\n\u001b[0;32m---> 15\u001b[0m     retval_ \u001b[38;5;241m=\u001b[39m ag__\u001b[38;5;241m.\u001b[39mconverted_call(ag__\u001b[38;5;241m.\u001b[39mld(step_function), (ag__\u001b[38;5;241m.\u001b[39mld(\u001b[38;5;28mself\u001b[39m), ag__\u001b[38;5;241m.\u001b[39mld(iterator)), \u001b[38;5;28;01mNone\u001b[39;00m, fscope)\n\u001b[1;32m     16\u001b[0m \u001b[38;5;28;01mexcept\u001b[39;00m:\n\u001b[1;32m     17\u001b[0m     do_return \u001b[38;5;241m=\u001b[39m \u001b[38;5;28;01mFalse\u001b[39;00m\n",
      "\u001b[0;31mValueError\u001b[0m: in user code:\n\n    File \"/Users/palukgupta/opt/anaconda3/lib/python3.9/site-packages/keras/engine/training.py\", line 1051, in train_function  *\n        return step_function(self, iterator)\n    File \"/Users/palukgupta/opt/anaconda3/lib/python3.9/site-packages/keras/engine/training.py\", line 1040, in step_function  **\n        outputs = model.distribute_strategy.run(run_step, args=(data,))\n    File \"/Users/palukgupta/opt/anaconda3/lib/python3.9/site-packages/keras/engine/training.py\", line 1030, in run_step  **\n        outputs = model.train_step(data)\n    File \"/Users/palukgupta/opt/anaconda3/lib/python3.9/site-packages/keras/engine/training.py\", line 890, in train_step\n        loss = self.compute_loss(x, y, y_pred, sample_weight)\n    File \"/Users/palukgupta/opt/anaconda3/lib/python3.9/site-packages/keras/engine/training.py\", line 948, in compute_loss\n        return self.compiled_loss(\n    File \"/Users/palukgupta/opt/anaconda3/lib/python3.9/site-packages/keras/engine/compile_utils.py\", line 201, in __call__\n        loss_value = loss_obj(y_t, y_p, sample_weight=sw)\n    File \"/Users/palukgupta/opt/anaconda3/lib/python3.9/site-packages/keras/losses.py\", line 139, in __call__\n        losses = call_fn(y_true, y_pred)\n    File \"/Users/palukgupta/opt/anaconda3/lib/python3.9/site-packages/keras/losses.py\", line 243, in call  **\n        return ag_fn(y_true, y_pred, **self._fn_kwargs)\n    File \"/Users/palukgupta/opt/anaconda3/lib/python3.9/site-packages/keras/losses.py\", line 1787, in categorical_crossentropy\n        return backend.categorical_crossentropy(\n    File \"/Users/palukgupta/opt/anaconda3/lib/python3.9/site-packages/keras/backend.py\", line 5119, in categorical_crossentropy\n        target.shape.assert_is_compatible_with(output.shape)\n\n    ValueError: Shapes (None, 1) and (None, 4) are incompatible\n"
     ]
    }
   ],
   "source": [
    "\n",
    "X_train_img = X_train.reshape(-1, 28, 28, 4)\n",
    "Y_train = Y_train.argmax(axis=1)\n",
    "X_train, X_val, Y_train, Y_val = train_test_split(X_train_img, Y_train, test_size=0.1, random_state=42)\n",
    "\n",
    "\n",
    "# Defining the CNN model\n",
    "model = Sequential([\n",
    "    Conv2D(32, kernel_size=(3, 3), activation='relu', input_shape=(28, 28, 4)),\n",
    "    MaxPooling2D(pool_size=(2, 2)),\n",
    "    Conv2D(64, kernel_size=(3, 3), activation='relu'),\n",
    "    MaxPooling2D(pool_size=(2, 2)),\n",
    "    Flatten(),\n",
    "    Dense(128, activation='relu'),\n",
    "    Dropout(0.5),\n",
    "    Dense(4, activation='softmax')\n",
    "])\n",
    "\n",
    "\n",
    "# Compile the model\n",
    "model.compile(optimizer='adam', loss='categorical_crossentropy', metrics=['accuracy'])\n",
    "history = model.fit(X_train, Y_train, batch_size=32, epochs=10, verbose=1, validation_data=(X_val, Y_val))\n",
    "\n",
    "\n",
    "# Evaluating the model on images\n",
    "ix = 90\n",
    "imshow(np.squeeze(X_val[ix, :, :, 0:3]).astype(np.uint8))\n",
    "plt.show()\n",
    "\n",
    "preds = model.predict(X_val[ix:ix + 1], verbose=1)\n",
    "\n",
    "print('Prediction:\\n{:.1f}% probability barren land,\\n{:.1f}% probability trees,\\n{:.1f}% probability grassland,\\n{:.1f}% probability other\\n'.format(preds[0, 0] * 100, preds[0, 1] * 100, preds[0, 2] * 100, preds[0, 3] * 100))\n",
    "\n",
    "ground_truth = np.argmax(Y_val[ix], axis=0)\n",
    "if ground_truth == 0:\n",
    "    print('Barren Land')\n",
    "elif ground_truth == 1:\n",
    "    print('Trees')\n",
    "elif ground_truth == 2:\n",
    "    print('Grassland')\n",
    "else:\n",
    "    print('Other')\n"
   ]
  },
  {
   "cell_type": "code",
   "execution_count": null,
   "id": "d74ca6de",
   "metadata": {},
   "outputs": [],
   "source": []
  }
 ],
 "metadata": {
  "kernelspec": {
   "display_name": "Python 3 (ipykernel)",
   "language": "python",
   "name": "python3"
  },
  "language_info": {
   "codemirror_mode": {
    "name": "ipython",
    "version": 3
   },
   "file_extension": ".py",
   "mimetype": "text/x-python",
   "name": "python",
   "nbconvert_exporter": "python",
   "pygments_lexer": "ipython3",
   "version": "3.9.12"
  }
 },
 "nbformat": 4,
 "nbformat_minor": 5
}
